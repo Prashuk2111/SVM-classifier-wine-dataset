{
  "cells": [
    {
      "cell_type": "code",
      "execution_count": null,
      "metadata": {
        "id": "v673yemMK5DT"
      },
      "outputs": [],
      "source": [
        "import pandas as pd\n",
        "import numpy as np\n",
        "import matplotlib.pyplot as plt\n",
        "from sklearn.preprocessing import StandardScaler\n",
        "from sklearn.svm import SVC\n",
        "from sklearn.model_selection import train_test_split\n",
        "from sklearn.metrics import accuracy_score, confusion_matrix\n",
        "from sklearn.svm import SVC"
      ]
    },
    {
      "cell_type": "code",
      "execution_count": null,
      "metadata": {
        "colab": {
          "base_uri": "https://localhost:8080/",
          "height": 520
        },
        "id": "fKHJpBPxLwxN",
        "outputId": "0c4cecfa-4674-43a1-f3d5-80babedd8e5a"
      },
      "outputs": [
        {
          "name": "stdout",
          "output_type": "stream",
          "text": [
            "(1599, 12)\n"
          ]
        },
        {
          "data": {
            "text/html": [
              "\n",
              "  <div id=\"df-fd0b5228-6eb2-4f67-8202-dc4e1bfd8748\">\n",
              "    <div class=\"colab-df-container\">\n",
              "      <div>\n",
              "<style scoped>\n",
              "    .dataframe tbody tr th:only-of-type {\n",
              "        vertical-align: middle;\n",
              "    }\n",
              "\n",
              "    .dataframe tbody tr th {\n",
              "        vertical-align: top;\n",
              "    }\n",
              "\n",
              "    .dataframe thead th {\n",
              "        text-align: right;\n",
              "    }\n",
              "</style>\n",
              "<table border=\"1\" class=\"dataframe\">\n",
              "  <thead>\n",
              "    <tr style=\"text-align: right;\">\n",
              "      <th></th>\n",
              "      <th>fixed acidity</th>\n",
              "      <th>volatile acidity</th>\n",
              "      <th>citric acid</th>\n",
              "      <th>residual sugar</th>\n",
              "      <th>chlorides</th>\n",
              "      <th>free sulfur dioxide</th>\n",
              "      <th>total sulfur dioxide</th>\n",
              "      <th>density</th>\n",
              "      <th>pH</th>\n",
              "      <th>sulphates</th>\n",
              "      <th>alcohol</th>\n",
              "      <th>quality</th>\n",
              "    </tr>\n",
              "  </thead>\n",
              "  <tbody>\n",
              "    <tr>\n",
              "      <th>0</th>\n",
              "      <td>7.4</td>\n",
              "      <td>0.700</td>\n",
              "      <td>0.00</td>\n",
              "      <td>1.9</td>\n",
              "      <td>0.076</td>\n",
              "      <td>11.0</td>\n",
              "      <td>34.0</td>\n",
              "      <td>0.99780</td>\n",
              "      <td>3.51</td>\n",
              "      <td>0.56</td>\n",
              "      <td>9.4</td>\n",
              "      <td>5</td>\n",
              "    </tr>\n",
              "    <tr>\n",
              "      <th>1</th>\n",
              "      <td>7.8</td>\n",
              "      <td>0.880</td>\n",
              "      <td>0.00</td>\n",
              "      <td>2.6</td>\n",
              "      <td>0.098</td>\n",
              "      <td>25.0</td>\n",
              "      <td>67.0</td>\n",
              "      <td>0.99680</td>\n",
              "      <td>3.20</td>\n",
              "      <td>0.68</td>\n",
              "      <td>9.8</td>\n",
              "      <td>5</td>\n",
              "    </tr>\n",
              "    <tr>\n",
              "      <th>2</th>\n",
              "      <td>7.8</td>\n",
              "      <td>0.760</td>\n",
              "      <td>0.04</td>\n",
              "      <td>2.3</td>\n",
              "      <td>0.092</td>\n",
              "      <td>15.0</td>\n",
              "      <td>54.0</td>\n",
              "      <td>0.99700</td>\n",
              "      <td>3.26</td>\n",
              "      <td>0.65</td>\n",
              "      <td>9.8</td>\n",
              "      <td>5</td>\n",
              "    </tr>\n",
              "    <tr>\n",
              "      <th>3</th>\n",
              "      <td>11.2</td>\n",
              "      <td>0.280</td>\n",
              "      <td>0.56</td>\n",
              "      <td>1.9</td>\n",
              "      <td>0.075</td>\n",
              "      <td>17.0</td>\n",
              "      <td>60.0</td>\n",
              "      <td>0.99800</td>\n",
              "      <td>3.16</td>\n",
              "      <td>0.58</td>\n",
              "      <td>9.8</td>\n",
              "      <td>6</td>\n",
              "    </tr>\n",
              "    <tr>\n",
              "      <th>4</th>\n",
              "      <td>7.4</td>\n",
              "      <td>0.700</td>\n",
              "      <td>0.00</td>\n",
              "      <td>1.9</td>\n",
              "      <td>0.076</td>\n",
              "      <td>11.0</td>\n",
              "      <td>34.0</td>\n",
              "      <td>0.99780</td>\n",
              "      <td>3.51</td>\n",
              "      <td>0.56</td>\n",
              "      <td>9.4</td>\n",
              "      <td>5</td>\n",
              "    </tr>\n",
              "    <tr>\n",
              "      <th>...</th>\n",
              "      <td>...</td>\n",
              "      <td>...</td>\n",
              "      <td>...</td>\n",
              "      <td>...</td>\n",
              "      <td>...</td>\n",
              "      <td>...</td>\n",
              "      <td>...</td>\n",
              "      <td>...</td>\n",
              "      <td>...</td>\n",
              "      <td>...</td>\n",
              "      <td>...</td>\n",
              "      <td>...</td>\n",
              "    </tr>\n",
              "    <tr>\n",
              "      <th>1594</th>\n",
              "      <td>6.2</td>\n",
              "      <td>0.600</td>\n",
              "      <td>0.08</td>\n",
              "      <td>2.0</td>\n",
              "      <td>0.090</td>\n",
              "      <td>32.0</td>\n",
              "      <td>44.0</td>\n",
              "      <td>0.99490</td>\n",
              "      <td>3.45</td>\n",
              "      <td>0.58</td>\n",
              "      <td>10.5</td>\n",
              "      <td>5</td>\n",
              "    </tr>\n",
              "    <tr>\n",
              "      <th>1595</th>\n",
              "      <td>5.9</td>\n",
              "      <td>0.550</td>\n",
              "      <td>0.10</td>\n",
              "      <td>2.2</td>\n",
              "      <td>0.062</td>\n",
              "      <td>39.0</td>\n",
              "      <td>51.0</td>\n",
              "      <td>0.99512</td>\n",
              "      <td>3.52</td>\n",
              "      <td>0.76</td>\n",
              "      <td>11.2</td>\n",
              "      <td>6</td>\n",
              "    </tr>\n",
              "    <tr>\n",
              "      <th>1596</th>\n",
              "      <td>6.3</td>\n",
              "      <td>0.510</td>\n",
              "      <td>0.13</td>\n",
              "      <td>2.3</td>\n",
              "      <td>0.076</td>\n",
              "      <td>29.0</td>\n",
              "      <td>40.0</td>\n",
              "      <td>0.99574</td>\n",
              "      <td>3.42</td>\n",
              "      <td>0.75</td>\n",
              "      <td>11.0</td>\n",
              "      <td>6</td>\n",
              "    </tr>\n",
              "    <tr>\n",
              "      <th>1597</th>\n",
              "      <td>5.9</td>\n",
              "      <td>0.645</td>\n",
              "      <td>0.12</td>\n",
              "      <td>2.0</td>\n",
              "      <td>0.075</td>\n",
              "      <td>32.0</td>\n",
              "      <td>44.0</td>\n",
              "      <td>0.99547</td>\n",
              "      <td>3.57</td>\n",
              "      <td>0.71</td>\n",
              "      <td>10.2</td>\n",
              "      <td>5</td>\n",
              "    </tr>\n",
              "    <tr>\n",
              "      <th>1598</th>\n",
              "      <td>6.0</td>\n",
              "      <td>0.310</td>\n",
              "      <td>0.47</td>\n",
              "      <td>3.6</td>\n",
              "      <td>0.067</td>\n",
              "      <td>18.0</td>\n",
              "      <td>42.0</td>\n",
              "      <td>0.99549</td>\n",
              "      <td>3.39</td>\n",
              "      <td>0.66</td>\n",
              "      <td>11.0</td>\n",
              "      <td>6</td>\n",
              "    </tr>\n",
              "  </tbody>\n",
              "</table>\n",
              "<p>1599 rows × 12 columns</p>\n",
              "</div>\n",
              "      <button class=\"colab-df-convert\" onclick=\"convertToInteractive('df-fd0b5228-6eb2-4f67-8202-dc4e1bfd8748')\"\n",
              "              title=\"Convert this dataframe to an interactive table.\"\n",
              "              style=\"display:none;\">\n",
              "        \n",
              "  <svg xmlns=\"http://www.w3.org/2000/svg\" height=\"24px\"viewBox=\"0 0 24 24\"\n",
              "       width=\"24px\">\n",
              "    <path d=\"M0 0h24v24H0V0z\" fill=\"none\"/>\n",
              "    <path d=\"M18.56 5.44l.94 2.06.94-2.06 2.06-.94-2.06-.94-.94-2.06-.94 2.06-2.06.94zm-11 1L8.5 8.5l.94-2.06 2.06-.94-2.06-.94L8.5 2.5l-.94 2.06-2.06.94zm10 10l.94 2.06.94-2.06 2.06-.94-2.06-.94-.94-2.06-.94 2.06-2.06.94z\"/><path d=\"M17.41 7.96l-1.37-1.37c-.4-.4-.92-.59-1.43-.59-.52 0-1.04.2-1.43.59L10.3 9.45l-7.72 7.72c-.78.78-.78 2.05 0 2.83L4 21.41c.39.39.9.59 1.41.59.51 0 1.02-.2 1.41-.59l7.78-7.78 2.81-2.81c.8-.78.8-2.07 0-2.86zM5.41 20L4 18.59l7.72-7.72 1.47 1.35L5.41 20z\"/>\n",
              "  </svg>\n",
              "      </button>\n",
              "      \n",
              "  <style>\n",
              "    .colab-df-container {\n",
              "      display:flex;\n",
              "      flex-wrap:wrap;\n",
              "      gap: 12px;\n",
              "    }\n",
              "\n",
              "    .colab-df-convert {\n",
              "      background-color: #E8F0FE;\n",
              "      border: none;\n",
              "      border-radius: 50%;\n",
              "      cursor: pointer;\n",
              "      display: none;\n",
              "      fill: #1967D2;\n",
              "      height: 32px;\n",
              "      padding: 0 0 0 0;\n",
              "      width: 32px;\n",
              "    }\n",
              "\n",
              "    .colab-df-convert:hover {\n",
              "      background-color: #E2EBFA;\n",
              "      box-shadow: 0px 1px 2px rgba(60, 64, 67, 0.3), 0px 1px 3px 1px rgba(60, 64, 67, 0.15);\n",
              "      fill: #174EA6;\n",
              "    }\n",
              "\n",
              "    [theme=dark] .colab-df-convert {\n",
              "      background-color: #3B4455;\n",
              "      fill: #D2E3FC;\n",
              "    }\n",
              "\n",
              "    [theme=dark] .colab-df-convert:hover {\n",
              "      background-color: #434B5C;\n",
              "      box-shadow: 0px 1px 3px 1px rgba(0, 0, 0, 0.15);\n",
              "      filter: drop-shadow(0px 1px 2px rgba(0, 0, 0, 0.3));\n",
              "      fill: #FFFFFF;\n",
              "    }\n",
              "  </style>\n",
              "\n",
              "      <script>\n",
              "        const buttonEl =\n",
              "          document.querySelector('#df-fd0b5228-6eb2-4f67-8202-dc4e1bfd8748 button.colab-df-convert');\n",
              "        buttonEl.style.display =\n",
              "          google.colab.kernel.accessAllowed ? 'block' : 'none';\n",
              "\n",
              "        async function convertToInteractive(key) {\n",
              "          const element = document.querySelector('#df-fd0b5228-6eb2-4f67-8202-dc4e1bfd8748');\n",
              "          const dataTable =\n",
              "            await google.colab.kernel.invokeFunction('convertToInteractive',\n",
              "                                                     [key], {});\n",
              "          if (!dataTable) return;\n",
              "\n",
              "          const docLinkHtml = 'Like what you see? Visit the ' +\n",
              "            '<a target=\"_blank\" href=https://colab.research.google.com/notebooks/data_table.ipynb>data table notebook</a>'\n",
              "            + ' to learn more about interactive tables.';\n",
              "          element.innerHTML = '';\n",
              "          dataTable['output_type'] = 'display_data';\n",
              "          await google.colab.output.renderOutput(dataTable, element);\n",
              "          const docLink = document.createElement('div');\n",
              "          docLink.innerHTML = docLinkHtml;\n",
              "          element.appendChild(docLink);\n",
              "        }\n",
              "      </script>\n",
              "    </div>\n",
              "  </div>\n",
              "  "
            ],
            "text/plain": [
              "      fixed acidity  volatile acidity  citric acid  residual sugar  chlorides  \\\n",
              "0               7.4             0.700         0.00             1.9      0.076   \n",
              "1               7.8             0.880         0.00             2.6      0.098   \n",
              "2               7.8             0.760         0.04             2.3      0.092   \n",
              "3              11.2             0.280         0.56             1.9      0.075   \n",
              "4               7.4             0.700         0.00             1.9      0.076   \n",
              "...             ...               ...          ...             ...        ...   \n",
              "1594            6.2             0.600         0.08             2.0      0.090   \n",
              "1595            5.9             0.550         0.10             2.2      0.062   \n",
              "1596            6.3             0.510         0.13             2.3      0.076   \n",
              "1597            5.9             0.645         0.12             2.0      0.075   \n",
              "1598            6.0             0.310         0.47             3.6      0.067   \n",
              "\n",
              "      free sulfur dioxide  total sulfur dioxide  density    pH  sulphates  \\\n",
              "0                    11.0                  34.0  0.99780  3.51       0.56   \n",
              "1                    25.0                  67.0  0.99680  3.20       0.68   \n",
              "2                    15.0                  54.0  0.99700  3.26       0.65   \n",
              "3                    17.0                  60.0  0.99800  3.16       0.58   \n",
              "4                    11.0                  34.0  0.99780  3.51       0.56   \n",
              "...                   ...                   ...      ...   ...        ...   \n",
              "1594                 32.0                  44.0  0.99490  3.45       0.58   \n",
              "1595                 39.0                  51.0  0.99512  3.52       0.76   \n",
              "1596                 29.0                  40.0  0.99574  3.42       0.75   \n",
              "1597                 32.0                  44.0  0.99547  3.57       0.71   \n",
              "1598                 18.0                  42.0  0.99549  3.39       0.66   \n",
              "\n",
              "      alcohol  quality  \n",
              "0         9.4        5  \n",
              "1         9.8        5  \n",
              "2         9.8        5  \n",
              "3         9.8        6  \n",
              "4         9.4        5  \n",
              "...       ...      ...  \n",
              "1594     10.5        5  \n",
              "1595     11.2        6  \n",
              "1596     11.0        6  \n",
              "1597     10.2        5  \n",
              "1598     11.0        6  \n",
              "\n",
              "[1599 rows x 12 columns]"
            ]
          },
          "execution_count": 3,
          "metadata": {},
          "output_type": "execute_result"
        }
      ],
      "source": [
        "# reading the data of both the white and red wine\n",
        "df_red = pd.read_csv(\"winequality-red.csv\", delimiter=\";\")\n",
        "df_white = pd.read_csv(\"winequality-white.csv\", delimiter=\";\")\n",
        "print(df_red.shape)\n",
        "df_red"
      ]
    },
    {
      "cell_type": "code",
      "execution_count": 16,
      "metadata": {
        "id": "srWVGk5LnuvN"
      },
      "outputs": [],
      "source": [
        "# concating the dataframes and then normalizing it \n",
        "# the other way is to normalize both the dataframes and then concat, which is done in few cells below\n",
        "df = pd.concat([df_red, df_white])\n",
        "X = df.drop(\"quality\", axis=1)\n",
        "Y = df[\"quality\"]\n",
        "\n",
        "scaler = StandardScaler()\n",
        "X = scaler.fit_transform(X)\n",
        "X = pd.DataFrame(X)\n"
      ]
    },
    {
      "cell_type": "code",
      "execution_count": 17,
      "metadata": {
        "id": "ULtz4kvknu5M"
      },
      "outputs": [],
      "source": [
        "# splitting the data into training and testing\n",
        "X_train, X_test, y_train, y_test = train_test_split(X, Y, test_size=0.2, random_state=5)"
      ]
    },
    {
      "cell_type": "code",
      "execution_count": 18,
      "metadata": {
        "id": "OKGYhdrjnvBK"
      },
      "outputs": [],
      "source": [
        "# train the svc model on three different kernals with different values of c\n",
        "Kernal = [\"rbf\", \"linear\", \"poly\"]\n",
        "C_val_1 = [1, 10, 50, 100]\n",
        "C_val_2 =  [1, 10, 20, 30]\n",
        "\n",
        "# storing the score of each of the kernal on each of the c_Val\n",
        "output = []\n",
        "\n",
        "for kernal_type in Kernal:\n",
        "  if kernal_type == \"rbf\" or kernal_type ==\"poly\":\n",
        "    for C in C_val_1:\n",
        "        clf = SVC(kernel=kernal_type, C=C)\n",
        "        clf.fit(X_train, y_train)\n",
        "        score = clf.score(X_test, y_test)\n",
        "        output.append((kernal_type, C, score))\n",
        "\n",
        "\n",
        "  if kernal_type == \"linear\":\n",
        "    for C in C_val_2:\n",
        "        clf = SVC(kernel=kernal_type, C=C)\n",
        "        clf.fit(X_train, y_train)\n",
        "        score = clf.score(X_test, y_test)\n",
        "        output.append((kernal_type, C, score))"
      ]
    },
    {
      "cell_type": "code",
      "execution_count": 19,
      "metadata": {
        "colab": {
          "base_uri": "https://localhost:8080/"
        },
        "id": "LseFp9rUnvI2",
        "outputId": "2360e5b8-6c47-409c-d05f-e1a70f34901a"
      },
      "outputs": [
        {
          "output_type": "stream",
          "name": "stdout",
          "text": [
            "    Kernel    C  Accuracy\n",
            "0      rbf    1  0.563846\n",
            "1      rbf   10  0.572308\n",
            "2      rbf   50  0.583077\n",
            "3      rbf  100  0.592308\n",
            "4   linear    1  0.523846\n",
            "5   linear   10  0.523846\n",
            "6   linear   20  0.523846\n",
            "7   linear   30  0.523846\n",
            "8     poly    1  0.533077\n",
            "9     poly   10  0.524615\n",
            "10    poly   50  0.528462\n",
            "11    poly  100  0.524615\n"
          ]
        }
      ],
      "source": [
        "Output_df = pd.DataFrame(output, columns=[\"Kernel\", \"C\", \"Accuracy\"])\n",
        "print(Output_df)"
      ]
    },
    {
      "cell_type": "code",
      "execution_count": 20,
      "metadata": {
        "id": "ux8LrUmgnvPb"
      },
      "outputs": [],
      "source": [
        "# now all considering different gamma vals with c on best model\n",
        "C_val = [50, 100]\n",
        "gamma_val = [0.01, 0.1, 1, 10, 50, 100]\n",
        "Output = []\n",
        "for C in C_val:\n",
        "    for gamma in gamma_val:\n",
        "        clf = SVC(kernel=\"rbf\", C=C, gamma=gamma)\n",
        "        clf.fit(X_train, y_train)\n",
        "        score = clf.score(X_test, y_test)\n",
        "        Output.append((C, gamma, score))"
      ]
    },
    {
      "cell_type": "code",
      "execution_count": 21,
      "metadata": {
        "colab": {
          "base_uri": "https://localhost:8080/"
        },
        "id": "04Fe2p3PnvWu",
        "outputId": "4422618c-2acc-41a9-82dc-fbcb831401d1"
      },
      "outputs": [
        {
          "output_type": "stream",
          "name": "stdout",
          "text": [
            "      C   Gamma  Accuracy\n",
            "0    50    0.01  0.546154\n",
            "1    50    0.10  0.580769\n",
            "2    50    1.00  0.652308\n",
            "3    50   10.00  0.605385\n",
            "4    50   50.00  0.593077\n",
            "5    50  100.00  0.587692\n",
            "6   100    0.01  0.550000\n",
            "7   100    0.10  0.595385\n",
            "8   100    1.00  0.652308\n",
            "9   100   10.00  0.605385\n",
            "10  100   50.00  0.593077\n",
            "11  100  100.00  0.587692\n"
          ]
        }
      ],
      "source": [
        "# Display the results in a table\n",
        "output_df = pd.DataFrame(Output, columns=[\"C\", \"Gamma\", \"Accuracy\"])\n",
        "print(output_df)"
      ]
    },
    {
      "cell_type": "code",
      "execution_count": null,
      "metadata": {
        "id": "0nZTykyJnvdJ"
      },
      "outputs": [],
      "source": []
    },
    {
      "cell_type": "code",
      "execution_count": null,
      "metadata": {
        "id": "ppW0xR_6MlNC"
      },
      "outputs": [],
      "source": [
        "# # df_red\n",
        "# # df_red.info()\n",
        "\n",
        "# X_red = df_red.drop(\"quality\", axis=1)\n",
        "# Y_red = df_red[\"quality\"]\n",
        "\n",
        "# scaler = StandardScaler()\n",
        "# X_red = scaler.fit_transform(X_red)\n",
        "# # X_red.shape\n",
        "# # X_red\n",
        "# X_red_dataframe = pd.DataFrame(X_red)\n",
        "# # X_red_dataframe\n"
      ]
    },
    {
      "cell_type": "code",
      "execution_count": null,
      "metadata": {
        "id": "zjL_0_wRMmNF"
      },
      "outputs": [],
      "source": [
        "# # df_white\n",
        "# # df_white.info()\n",
        "\n",
        "# X_white = df_white.drop(\"quality\", axis=1)\n",
        "# Y_white = df_white[\"quality\"]\n",
        "\n",
        "# scaler = StandardScaler()\n",
        "# X_white = scaler.fit_transform(X_white)\n",
        "\n",
        "# X_white_dataframe = pd.DataFrame(X_white)"
      ]
    },
    {
      "cell_type": "code",
      "execution_count": null,
      "metadata": {
        "id": "4X1jA8p9R0ce"
      },
      "outputs": [],
      "source": [
        "# X_wine = pd.concat([X_red_dataframe,X_white_dataframe])\n",
        "# Y_wine = pd.concat([Y_red,Y_white])"
      ]
    },
    {
      "cell_type": "code",
      "execution_count": null,
      "metadata": {
        "id": "XZIfJbNuSah1"
      },
      "outputs": [],
      "source": [
        "# X_train, X_test, y_train, y_test = train_test_split(X_wine, Y_wine, test_size=0.2, random_state=20)"
      ]
    },
    {
      "cell_type": "code",
      "execution_count": null,
      "metadata": {
        "id": "yiPJlFUzUAow"
      },
      "outputs": [],
      "source": [
        "# Kernal = [\"rbf\", \"linear\", \"poly\"]\n",
        "# C_val_1 = [1, 10, 50, 100]\n",
        "# C_val_2 =  [1, 10, 20, 30]\n",
        "\n",
        "# output = []\n",
        "\n",
        "# for kernal_type in Kernal:\n",
        "#   if kernal_type == \"rbf\" or kernal_type ==\"poly\":\n",
        "#     for C in C_val_1:\n",
        "#         clf = SVC(kernel=kernal_type, C=C)\n",
        "#         clf.fit(X_train, y_train)\n",
        "  #       score = clf.score(X_test, y_test)\n",
        "  #       output.append((kernal_type, C, score))\n",
        "\n",
        "\n",
        "  # if kernal_type == \"linear\":\n",
        "  #   for C in C_val_2:\n",
        "  #       clf = SVC(kernel=kernal_type, C=C)\n",
        "  #       clf.fit(X_train, y_train)\n",
        "  #       score = clf.score(X_test, y_test)\n",
        "  #       output.append((kernal_type, C, score))"
      ]
    },
    {
      "cell_type": "code",
      "execution_count": null,
      "metadata": {
        "colab": {
          "base_uri": "https://localhost:8080/"
        },
        "id": "2SwjyEu3VH7n",
        "outputId": "0353065d-9ed0-4491-ca41-31984e70d2ae"
      },
      "outputs": [
        {
          "name": "stdout",
          "output_type": "stream",
          "text": [
            "    Kernel    C  Accuracy\n",
            "0      rbf    1  0.567692\n",
            "1      rbf   10  0.588462\n",
            "2      rbf   50  0.605385\n",
            "3      rbf  100  0.601538\n",
            "4   linear    1  0.533846\n",
            "5   linear   10  0.534615\n",
            "6   linear   20  0.533846\n",
            "7   linear   30  0.533077\n",
            "8     poly    1  0.515385\n",
            "9     poly   10  0.526154\n",
            "10    poly   50  0.529231\n",
            "11    poly  100  0.528462\n"
          ]
        }
      ],
      "source": [
        "# Output_df = pd.DataFrame(output, columns=[\"Kernel\", \"C\", \"Accuracy\"])\n",
        "# print(Output_df)"
      ]
    },
    {
      "cell_type": "code",
      "execution_count": null,
      "metadata": {
        "id": "BU6YEoWWYJI-"
      },
      "outputs": [],
      "source": [
        "# C_val = [50, 100]\n",
        "# gamma_val = [0.01, 0.1, 1, 10, 50, 100]\n",
        "# Output = []\n",
        "# for C in C_val:\n",
        "#     for gamma in gamma_val:\n",
        "#         clf = SVC(kernel=\"rbf\", C=C, gamma=gamma)\n",
        "#         clf.fit(X_train, y_train)\n",
        "#         score = clf.score(X_test, y_test)\n",
        "#         Output.append((C, gamma, score))"
      ]
    },
    {
      "cell_type": "code",
      "execution_count": null,
      "metadata": {
        "colab": {
          "base_uri": "https://localhost:8080/"
        },
        "id": "-eksVOPUdCtN",
        "outputId": "de3751ea-75e8-412f-ff34-4798571eb1e6"
      },
      "outputs": [
        {
          "name": "stdout",
          "output_type": "stream",
          "text": [
            "      C   Gamma  Accuracy\n",
            "0    50    0.01  0.545385\n",
            "1    50    0.10  0.606923\n",
            "2    50    1.00  0.651538\n",
            "3    50   10.00  0.604615\n",
            "4    50   50.00  0.598462\n",
            "5    50  100.00  0.596923\n",
            "6   100    0.01  0.546923\n",
            "7   100    0.10  0.611538\n",
            "8   100    1.00  0.651538\n",
            "9   100   10.00  0.604615\n",
            "10  100   50.00  0.598462\n",
            "11  100  100.00  0.596923\n"
          ]
        }
      ],
      "source": [
        "# # Display the results in a table\n",
        "# output_df = pd.DataFrame(Output, columns=[\"C\", \"Gamma\", \"Accuracy\"])\n",
        "# print(output_df)"
      ]
    }
  ],
  "metadata": {
    "colab": {
      "provenance": []
    },
    "kernelspec": {
      "display_name": "Python 3",
      "name": "python3"
    },
    "language_info": {
      "name": "python"
    }
  },
  "nbformat": 4,
  "nbformat_minor": 0
}